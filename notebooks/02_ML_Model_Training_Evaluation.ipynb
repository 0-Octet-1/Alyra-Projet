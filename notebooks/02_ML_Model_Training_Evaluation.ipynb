{
 "cells": [
  {
   "cell_type": "markdown",
   "metadata": {},
   "source": [
    "# 🤖 Machine Learning - Entraînement et Évaluation des Modèles PMR\n",
    "\n",
    "## 📋 Objectifs de ce Notebook\n",
    "\n",
    "Ce notebook implémente et évalue des modèles de Machine Learning pour prédire l'accessibilité PMR :\n",
    "\n",
    "### 🎯 **Objectifs Pédagogiques (Certification RNCP38616)**\n",
    "- **Bloc 03** : Développer une solution d'intelligence artificielle\n",
    "- **Compétences démontrées** :\n",
    "  - Sélection et implémentation d'algorithmes ML appropriés\n",
    "  - Optimisation des hyperparamètres\n",
    "  - Évaluation rigoureuse des performances\n",
    "  - Analyse et interprétation des résultats\n",
    "\n",
    "### 🔍 **Modèles Implémentés**\n",
    "1. **Régression Logistique** (modèle baseline)\n",
    "2. **Random Forest** (modèle principal)\n",
    "\n",
    "### 📊 **Métriques d'Évaluation**\n",
    "- Accuracy, Precision, Recall, F1-Score\n",
    "- Matrice de confusion\n",
    "- Classification Report\n",
    "- Courbes ROC et AUC\n",
    "- Analyse de l'importance des features\n",
    "\n",
    "---"
   ]
  },
  {
   "cell_type": "markdown",
   "metadata": {},
   "source": [
    "## 📚 1. Imports et Configuration\n",
    "\n",
    "### 🔧 **Pourquoi ces librairies ?**\n",
    "- **pandas/numpy** : Manipulation des données\n",
    "- **sklearn** : Algorithmes ML et métriques\n",
    "- **matplotlib/seaborn** : Visualisations\n",
    "- **joblib** : Sauvegarde des modèles\n",
    "- **warnings** : Suppression des avertissements non critiques"
   ]
  },
  {
   "cell_type": "code",
   "execution_count": null,
   "metadata": {},
   "outputs": [],
   "source": [
    "# === IMPORTS ESSENTIELS ===\n",
    "import pandas as pd\n",
    "import numpy as np\n",
    "import matplotlib.pyplot as plt\n",
    "import seaborn as sns\n",
    "import warnings\n",
    "import joblib\n",
    "from pathlib import Path\n",
    "\n",
    "# === MACHINE LEARNING ===\n",
    "from sklearn.linear_model import LogisticRegression\n",
    "from sklearn.ensemble import RandomForestClassifier\n",
    "from sklearn.model_selection import GridSearchCV, cross_val_score\n",
    "from sklearn.metrics import (\n",
    "    accuracy_score, precision_score, recall_score, f1_score,\n",
    "    classification_report, confusion_matrix,\n",
    "    roc_curve, auc, roc_auc_score\n",
    ")\n",
    "\n",
    "# === CONFIGURATION ===\n",
    "warnings.filterwarnings('ignore')\n",
    "plt.style.use('seaborn-v0_8')\n",
    "sns.set_palette(\"husl\")\n",
    "\n",
    "# Reproductibilité des résultats\n",
    "RANDOM_STATE = 42\n",
    "np.random.seed(RANDOM_STATE)\n",
    "\n",
    "print(\"✅ Imports réalisés avec succès\")\n",
    "print(f\"📊 Versions : pandas {pd.__version__}, numpy {np.__version__}\")"
   ]
  }
 ],
 "metadata": {
  "kernelspec": {
   "display_name": "Python 3",
   "language": "python",
   "name": "python3"
  },
  "language_info": {
   "codemirror_mode": {
    "name": "ipython",
    "version": 3
   },
   "file_extension": ".py",
   "name": "python",
   "nbconvert_exporter": "python",
   "pygments_lexer": "ipython3",
   "version": "3.8.0"
  }
 },
 "nbformat": 4,
 "nbformat_minor": 4
}
